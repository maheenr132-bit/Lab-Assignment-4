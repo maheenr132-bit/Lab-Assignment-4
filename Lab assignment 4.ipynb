{
 "cells": [
  {
   "cell_type": "code",
   "execution_count": 4,
   "id": "a1160a7c-6cba-4a09-b840-29ef2d219392",
   "metadata": {},
   "outputs": [
    {
     "name": "stdout",
     "output_type": "stream",
     "text": [
      "{'name': 'maheen ramzan', 'age': 19, 'city': 'chishtian', 'hobbies': ['reading', 'baking', 'travelling']}\n"
     ]
    }
   ],
   "source": [
    "person = { 'name':'maheen ramzan','age':19,'city':'chishtian','hobbies':['reading','baking','travelling'] } \n",
    "print (person) "
   ]
  },
  {
   "cell_type": "code",
   "execution_count": 1,
   "id": "2eac88d9-5bf8-440b-9763-2ddb96f6f46b",
   "metadata": {},
   "outputs": [
    {
     "name": "stdout",
     "output_type": "stream",
     "text": [
      "Led screen : 12\n",
      "speaker : 32\n",
      "fridges : 10\n"
     ]
    }
   ],
   "source": [
    "inventry = {'Led screen':12,'speaker':32,'fridges':10}\n",
    "for item,quantity in inventry.items():\n",
    "    print (f\"{item} : {quantity}\")"
   ]
  },
  {
   "cell_type": "code",
   "execution_count": 9,
   "id": "bcd5bc09-c481-44b8-ac49-2b963b847664",
   "metadata": {},
   "outputs": [
    {
     "name": "stdout",
     "output_type": "stream",
     "text": [
      "student Grades: {'Ali': 85, 'Zainab': 60, 'Rayyan': 9}\n",
      "Average Grade: 51.333333333333336\n"
     ]
    }
   ],
   "source": [
    "student_Grades = {'Ali':85,'Zainab':60,'Rayyan':9}\n",
    "total = 0\n",
    "for Grade in student_Grades.values():\n",
    "    total = total + Grade\n",
    "average = total / len (student_Grades)\n",
    "print(\"student Grades:\",student_Grades)\n",
    "print(\"Average Grade:\",average)"
   ]
  },
  {
   "cell_type": "code",
   "execution_count": 4,
   "id": "82a51cac-d8b4-4cca-b9aa-8def5c78aaab",
   "metadata": {},
   "outputs": [
    {
     "name": "stdout",
     "output_type": "stream",
     "text": [
      "Total Inventory Value: $18039.60\n",
      "Low Stock Items: {'keyboard': {'quantity': 4, 'price': 69.99}}\n"
     ]
    }
   ],
   "source": [
    "inventory = {\"laptop\": {\"quantity\": 17, \"price\": 999.99},\n",
    "             \"mouse\": {\"quantity\": 19, \"price\": 39.99},\n",
    "             \"keyboard\": {\"quantity\": 4, \"price\":69.99}}\n",
    "total_value = sum(d['quantity'] *d['price'] for d in inventory.values())\n",
    "low_stock = {p: d for p, d in inventory.items()if d['quantity']<=5}\n",
    "print(f\"Total Inventory Value: ${total_value:.2f}\")\n",
    "print(f\"Low Stock Items: {low_stock}\")\n",
    "\n",
    "    "
   ]
  },
  {
   "cell_type": "code",
   "execution_count": 14,
   "id": "b0a1e2fc-224d-403e-8e1b-c6f01ded2e0b",
   "metadata": {},
   "outputs": [
    {
     "name": "stdout",
     "output_type": "stream",
     "text": [
      "Average Grades:\n",
      "Ali = 80.0\n",
      "Sara = 91.0\n",
      "Omer = 65.0\n",
      "\n",
      "Highest in Math : Sara = 90\n"
     ]
    },
    {
     "ename": "KeyError",
     "evalue": "'Omer'",
     "output_type": "error",
     "traceback": [
      "\u001b[1;31m---------------------------------------------------------------------------\u001b[0m",
      "\u001b[1;31mKeyError\u001b[0m                                  Traceback (most recent call last)",
      "Cell \u001b[1;32mIn[14], line 17\u001b[0m\n\u001b[0;32m     15\u001b[0m lowest \u001b[38;5;241m=\u001b[39m \u001b[38;5;28mmin\u001b[39m(subject_grades, key\u001b[38;5;241m=\u001b[39msubject_grades\u001b[38;5;241m.\u001b[39mget)\n\u001b[0;32m     16\u001b[0m \u001b[38;5;28mprint\u001b[39m(\u001b[38;5;124m\"\u001b[39m\u001b[38;5;130;01m\\n\u001b[39;00m\u001b[38;5;124mHighest in\u001b[39m\u001b[38;5;124m\"\u001b[39m, subject, \u001b[38;5;124m\"\u001b[39m\u001b[38;5;124m:\u001b[39m\u001b[38;5;124m\"\u001b[39m, highest, \u001b[38;5;124m\"\u001b[39m\u001b[38;5;124m=\u001b[39m\u001b[38;5;124m\"\u001b[39m, subject_grades[highest])\n\u001b[1;32m---> 17\u001b[0m \u001b[38;5;28mprint\u001b[39m(\u001b[38;5;124m\"\u001b[39m\u001b[38;5;124mLowest in\u001b[39m\u001b[38;5;124m\"\u001b[39m, subject, \u001b[38;5;124m\"\u001b[39m\u001b[38;5;124m:\u001b[39m\u001b[38;5;124m\"\u001b[39m, lowest, \u001b[38;5;124m\"\u001b[39m\u001b[38;5;124m=\u001b[39m\u001b[38;5;124m\"\u001b[39m, subject\u001b[38;5;241m-\u001b[39mgrades[lowest])\n",
      "\u001b[1;31mKeyError\u001b[0m: 'Omer'"
     ]
    }
   ],
   "source": [
    "student={ \n",
    "    \"Ali\":{\"Math\":80,\"English\":75, \"Science\":85},\n",
    "    \"Sara\":{\"Math\":90,\"English\":95,\"Science\":88},\n",
    "    \"Omer\":{\"Math\":60,\"English\":70,\"Science\":65}\n",
    "}\n",
    "print(\"Average Grades:\")\n",
    "averages = {}\n",
    "for name, grades in student.items():\n",
    "    avg = sum(grades.values()) / len(grades)\n",
    "    averages[name] = avg\n",
    "    print(name, \"=\", avg)\n",
    "subject = \"Math\"\n",
    "subject_grades = {name: grades[subject] for name, grades in student.items () } \n",
    "highest =  max(subject_grades, key= subject_grades.get) \n",
    "lowest = min(subject_grades, key=subject_grades.get)\n",
    "print(\"\\nHighest in\", subject, \":\", highest, \"=\", subject_grades[highest])\n",
    "print(\"Lowest in\", subject, \":\", lowest, \"=\", subject-grades[lowest])"
   ]
  },
  {
   "cell_type": "code",
   "execution_count": null,
   "id": "e1ac967f-1ef8-4d75-bd0f-8db0b1a6d6d8",
   "metadata": {},
   "outputs": [],
   "source": []
  }
 ],
 "metadata": {
  "kernelspec": {
   "display_name": "Python [conda env:base] *",
   "language": "python",
   "name": "conda-base-py"
  },
  "language_info": {
   "codemirror_mode": {
    "name": "ipython",
    "version": 3
   },
   "file_extension": ".py",
   "mimetype": "text/x-python",
   "name": "python",
   "nbconvert_exporter": "python",
   "pygments_lexer": "ipython3",
   "version": "3.13.5"
  }
 },
 "nbformat": 4,
 "nbformat_minor": 5
}
